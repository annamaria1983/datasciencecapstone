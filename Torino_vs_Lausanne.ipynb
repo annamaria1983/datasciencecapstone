{
 "cells": [
  {
   "cell_type": "markdown",
   "metadata": {},
   "source": [
    "# Capstone project: comparing two cities, Torino and Lausanne"
   ]
  },
  {
   "cell_type": "markdown",
   "metadata": {},
   "source": [
    "# Dependencies"
   ]
  },
  {
   "cell_type": "markdown",
   "metadata": {},
   "source": [
    "Here we import all the dependencies needed"
   ]
  },
  {
   "cell_type": "code",
   "execution_count": 1,
   "metadata": {},
   "outputs": [
    {
     "name": "stdout",
     "output_type": "stream",
     "text": [
      "Collecting package metadata (current_repodata.json): done\n",
      "Solving environment: done\n",
      "\n",
      "\n",
      "==> WARNING: A newer version of conda exists. <==\n",
      "  current version: 4.8.3\n",
      "  latest version: 4.8.4\n",
      "\n",
      "Please update conda by running\n",
      "\n",
      "    $ conda update -n base -c defaults conda\n",
      "\n",
      "\n",
      "\n",
      "# All requested packages already installed.\n",
      "\n",
      "Collecting package metadata (current_repodata.json): done\n",
      "Solving environment: done\n",
      "\n",
      "\n",
      "==> WARNING: A newer version of conda exists. <==\n",
      "  current version: 4.8.3\n",
      "  latest version: 4.8.4\n",
      "\n",
      "Please update conda by running\n",
      "\n",
      "    $ conda update -n base -c defaults conda\n",
      "\n",
      "\n",
      "\n",
      "# All requested packages already installed.\n",
      "\n",
      "Requirement already satisfied: lxml in /home/jupyterlab/conda/envs/python/lib/python3.6/site-packages (4.5.2)\n",
      "Libraries imported.\n"
     ]
    }
   ],
   "source": [
    "import numpy as np # library to handle data in a vectorized manner\n",
    "\n",
    "import pandas as pd # library for data analsysis\n",
    "pd.set_option('display.max_columns', None)\n",
    "pd.set_option('display.max_rows', None)\n",
    "\n",
    "import json # library to handle JSON files\n",
    "\n",
    "!conda install -c conda-forge geopy --yes \n",
    "from geopy.geocoders import Nominatim # convert an address into latitude and longitude values\n",
    "\n",
    "import requests # library to handle requests\n",
    "from pandas.io.json import json_normalize # tranform JSON file into a pandas dataframe\n",
    "\n",
    "# Matplotlib and associated plotting modules\n",
    "import matplotlib.cm as cm\n",
    "import matplotlib.colors as colors\n",
    "import matplotlib.pyplot as plt\n",
    "\n",
    "# import k-means from clustering stage\n",
    "from sklearn.cluster import KMeans\n",
    "\n",
    "!conda install -c conda-forge folium=0.5.0 --yes # uncomment this line if you haven't completed the Foursquare API lab\n",
    "import folium # map rendering library\n",
    "\n",
    "# for importing tables from the Wikipedia page\n",
    "import pandas as pd\n",
    "!pip install lxml\n",
    "\n",
    "print('Libraries imported.')"
   ]
  },
  {
   "cell_type": "markdown",
   "metadata": {},
   "source": [
    "# Lausanne analysis"
   ]
  },
  {
   "cell_type": "markdown",
   "metadata": {},
   "source": [
    "Here we get the coordinates of the city of Lausanne"
   ]
  },
  {
   "cell_type": "code",
   "execution_count": 2,
   "metadata": {},
   "outputs": [
    {
     "name": "stdout",
     "output_type": "stream",
     "text": [
      "The geograpical coordinate of Lausanne are 46.5218269, 6.6327025.\n"
     ]
    }
   ],
   "source": [
    "address = 'Lausanne, Switzerland'\n",
    "\n",
    "geolocator = Nominatim(user_agent=\"lau_explorer\")\n",
    "location = geolocator.geocode(address)\n",
    "latitude_lau = location.latitude\n",
    "longitude_lau = location.longitude\n",
    "print('The geograpical coordinate of Lausanne are {}, {}.'.format(latitude_lau, longitude_lau))"
   ]
  },
  {
   "cell_type": "code",
   "execution_count": 3,
   "metadata": {},
   "outputs": [],
   "source": [
    "wiki_url = 'https://fr.wikipedia.org/wiki/Liste_des_quartiers_de_Lausanne'\n",
    "wiki_table = pd.read_html(wiki_url)  "
   ]
  },
  {
   "cell_type": "code",
   "execution_count": 4,
   "metadata": {},
   "outputs": [
    {
     "data": {
      "text/html": [
       "<div>\n",
       "<style scoped>\n",
       "    .dataframe tbody tr th:only-of-type {\n",
       "        vertical-align: middle;\n",
       "    }\n",
       "\n",
       "    .dataframe tbody tr th {\n",
       "        vertical-align: top;\n",
       "    }\n",
       "\n",
       "    .dataframe thead th {\n",
       "        text-align: right;\n",
       "    }\n",
       "</style>\n",
       "<table border=\"1\" class=\"dataframe\">\n",
       "  <thead>\n",
       "    <tr style=\"text-align: right;\">\n",
       "      <th></th>\n",
       "      <th>no</th>\n",
       "      <th>nom</th>\n",
       "      <th>superficie (ha)</th>\n",
       "      <th>nombre d'habitants (2014)</th>\n",
       "      <th>secteurs : code - nom - (nombre d'habitants en 2014)</th>\n",
       "      <th>situation sur la carte</th>\n",
       "    </tr>\n",
       "  </thead>\n",
       "  <tbody>\n",
       "    <tr>\n",
       "      <th>0</th>\n",
       "      <td>1</td>\n",
       "      <td>Centre</td>\n",
       "      <td>1243</td>\n",
       "      <td>12 753</td>\n",
       "      <td>101 Rue Centrale (2 358) 102 Chauderon (2 148)...</td>\n",
       "      <td>NaN</td>\n",
       "    </tr>\n",
       "    <tr>\n",
       "      <th>1</th>\n",
       "      <td>2</td>\n",
       "      <td>Maupas/Valency</td>\n",
       "      <td>803</td>\n",
       "      <td>13 598</td>\n",
       "      <td>201 Maupas (2 758) 202 Av. d’Échallens (3 872)...</td>\n",
       "      <td>NaN</td>\n",
       "    </tr>\n",
       "    <tr>\n",
       "      <th>2</th>\n",
       "      <td>3</td>\n",
       "      <td>Sébeillon/Malley</td>\n",
       "      <td>1039</td>\n",
       "      <td>10 322</td>\n",
       "      <td>301 Rue de Morges (3 303) 302 Rue de Sébeillon...</td>\n",
       "      <td>NaN</td>\n",
       "    </tr>\n",
       "    <tr>\n",
       "      <th>3</th>\n",
       "      <td>4</td>\n",
       "      <td>Montoie/Bourdonnette</td>\n",
       "      <td>1742</td>\n",
       "      <td>7 573</td>\n",
       "      <td>401 Montoie (3 036) 402 Vallée de la Jeunesse ...</td>\n",
       "      <td>NaN</td>\n",
       "    </tr>\n",
       "    <tr>\n",
       "      <th>4</th>\n",
       "      <td>5</td>\n",
       "      <td>Montriond/Cour</td>\n",
       "      <td>1444</td>\n",
       "      <td>8 258</td>\n",
       "      <td>501 Marc-Dufour (2 924) 502 Milan (2) 503 Les ...</td>\n",
       "      <td>NaN</td>\n",
       "    </tr>\n",
       "    <tr>\n",
       "      <th>5</th>\n",
       "      <td>6</td>\n",
       "      <td>Sous-Gare/Ouchy</td>\n",
       "      <td>799</td>\n",
       "      <td>10 753</td>\n",
       "      <td>601 Grancy (3 905) 602 Harpe (4 164) 603 Av. d...</td>\n",
       "      <td>NaN</td>\n",
       "    </tr>\n",
       "    <tr>\n",
       "      <th>6</th>\n",
       "      <td>7</td>\n",
       "      <td>Montchoisi</td>\n",
       "      <td>524</td>\n",
       "      <td>3 589</td>\n",
       "      <td>701 Montchoisi (3 365) 702 Élysée (224)</td>\n",
       "      <td>NaN</td>\n",
       "    </tr>\n",
       "    <tr>\n",
       "      <th>7</th>\n",
       "      <td>8</td>\n",
       "      <td>Florimont/Chissiez</td>\n",
       "      <td>466</td>\n",
       "      <td>5 555</td>\n",
       "      <td>801 Florimont (1 893) 802 Av. Rambert (1 126) ...</td>\n",
       "      <td>NaN</td>\n",
       "    </tr>\n",
       "    <tr>\n",
       "      <th>8</th>\n",
       "      <td>9</td>\n",
       "      <td>Mousquines/Bellevue</td>\n",
       "      <td>551</td>\n",
       "      <td>2 568</td>\n",
       "      <td>901 Mon-Repos (175) 902 Av. Secrétan (1 731) 9...</td>\n",
       "      <td>NaN</td>\n",
       "    </tr>\n",
       "    <tr>\n",
       "      <th>9</th>\n",
       "      <td>10</td>\n",
       "      <td>Vallon/Béthusy</td>\n",
       "      <td>892</td>\n",
       "      <td>6 315</td>\n",
       "      <td>1001 Le Vallon (1 382) 1002 Hôpitaux (274) 100...</td>\n",
       "      <td>NaN</td>\n",
       "    </tr>\n",
       "    <tr>\n",
       "      <th>10</th>\n",
       "      <td>11</td>\n",
       "      <td>Chailly/Rovéréaz</td>\n",
       "      <td>1938</td>\n",
       "      <td>9 247</td>\n",
       "      <td>1101 Chailly (4 521) 1102 Plaisance (1 433) 11...</td>\n",
       "      <td>NaN</td>\n",
       "    </tr>\n",
       "    <tr>\n",
       "      <th>11</th>\n",
       "      <td>12</td>\n",
       "      <td>Sallaz/Vennes/Séchaud</td>\n",
       "      <td>2341</td>\n",
       "      <td>13 622</td>\n",
       "      <td>1201 La Sallaz (3 288) 1202 Vennes (1 519) 120...</td>\n",
       "      <td>NaN</td>\n",
       "    </tr>\n",
       "    <tr>\n",
       "      <th>12</th>\n",
       "      <td>13</td>\n",
       "      <td>Sauvabelin</td>\n",
       "      <td>907</td>\n",
       "      <td>890</td>\n",
       "      <td>1301 Sauvabelin (67) 1302 Pré-Fleuri (823)</td>\n",
       "      <td>NaN</td>\n",
       "    </tr>\n",
       "    <tr>\n",
       "      <th>13</th>\n",
       "      <td>14</td>\n",
       "      <td>Borde/Bellevaux</td>\n",
       "      <td>689</td>\n",
       "      <td>10 216</td>\n",
       "      <td>1401 Borde (2 400) 1402 Rouvraie (1 906) 1403 ...</td>\n",
       "      <td>NaN</td>\n",
       "    </tr>\n",
       "    <tr>\n",
       "      <th>14</th>\n",
       "      <td>15</td>\n",
       "      <td>Vinet/Pontaise</td>\n",
       "      <td>336</td>\n",
       "      <td>7 377</td>\n",
       "      <td>1501 Pré-du-Marché (1 968) 1502 Valentin (2 68...</td>\n",
       "      <td>NaN</td>\n",
       "    </tr>\n",
       "    <tr>\n",
       "      <th>15</th>\n",
       "      <td>16</td>\n",
       "      <td>Bossons/Blécherette</td>\n",
       "      <td>1812</td>\n",
       "      <td>7 381</td>\n",
       "      <td>1601 Stade (9) 1602 Ancien-Stand (995) 1603 Bo...</td>\n",
       "      <td>NaN</td>\n",
       "    </tr>\n",
       "    <tr>\n",
       "      <th>16</th>\n",
       "      <td>17</td>\n",
       "      <td>Beaulieu/Grey/Boisy</td>\n",
       "      <td>671</td>\n",
       "      <td>6 178</td>\n",
       "      <td>1701 Beaulieu (241) 1702 Bergières (2 120) 170...</td>\n",
       "      <td>NaN</td>\n",
       "    </tr>\n",
       "    <tr>\n",
       "      <th>17</th>\n",
       "      <td>90</td>\n",
       "      <td>Zones foraines</td>\n",
       "      <td>2 313,7</td>\n",
       "      <td>3 828</td>\n",
       "      <td>9010 Les Râpes (3 112) 9020 Montheron (141) 90...</td>\n",
       "      <td>NaN</td>\n",
       "    </tr>\n",
       "  </tbody>\n",
       "</table>\n",
       "</div>"
      ],
      "text/plain": [
       "    no                    nom superficie (ha) nombre d'habitants (2014)  \\\n",
       "0    1                 Centre            1243                    12 753   \n",
       "1    2         Maupas/Valency             803                    13 598   \n",
       "2    3       Sébeillon/Malley            1039                    10 322   \n",
       "3    4   Montoie/Bourdonnette            1742                     7 573   \n",
       "4    5         Montriond/Cour            1444                     8 258   \n",
       "5    6        Sous-Gare/Ouchy             799                    10 753   \n",
       "6    7             Montchoisi             524                     3 589   \n",
       "7    8     Florimont/Chissiez             466                     5 555   \n",
       "8    9    Mousquines/Bellevue             551                     2 568   \n",
       "9   10         Vallon/Béthusy             892                     6 315   \n",
       "10  11       Chailly/Rovéréaz            1938                     9 247   \n",
       "11  12  Sallaz/Vennes/Séchaud            2341                    13 622   \n",
       "12  13             Sauvabelin             907                       890   \n",
       "13  14        Borde/Bellevaux             689                    10 216   \n",
       "14  15         Vinet/Pontaise             336                     7 377   \n",
       "15  16    Bossons/Blécherette            1812                     7 381   \n",
       "16  17    Beaulieu/Grey/Boisy             671                     6 178   \n",
       "17  90         Zones foraines         2 313,7                     3 828   \n",
       "\n",
       "   secteurs : code - nom - (nombre d'habitants en 2014)  \\\n",
       "0   101 Rue Centrale (2 358) 102 Chauderon (2 148)...     \n",
       "1   201 Maupas (2 758) 202 Av. d’Échallens (3 872)...     \n",
       "2   301 Rue de Morges (3 303) 302 Rue de Sébeillon...     \n",
       "3   401 Montoie (3 036) 402 Vallée de la Jeunesse ...     \n",
       "4   501 Marc-Dufour (2 924) 502 Milan (2) 503 Les ...     \n",
       "5   601 Grancy (3 905) 602 Harpe (4 164) 603 Av. d...     \n",
       "6             701 Montchoisi (3 365) 702 Élysée (224)     \n",
       "7   801 Florimont (1 893) 802 Av. Rambert (1 126) ...     \n",
       "8   901 Mon-Repos (175) 902 Av. Secrétan (1 731) 9...     \n",
       "9   1001 Le Vallon (1 382) 1002 Hôpitaux (274) 100...     \n",
       "10  1101 Chailly (4 521) 1102 Plaisance (1 433) 11...     \n",
       "11  1201 La Sallaz (3 288) 1202 Vennes (1 519) 120...     \n",
       "12         1301 Sauvabelin (67) 1302 Pré-Fleuri (823)     \n",
       "13  1401 Borde (2 400) 1402 Rouvraie (1 906) 1403 ...     \n",
       "14  1501 Pré-du-Marché (1 968) 1502 Valentin (2 68...     \n",
       "15  1601 Stade (9) 1602 Ancien-Stand (995) 1603 Bo...     \n",
       "16  1701 Beaulieu (241) 1702 Bergières (2 120) 170...     \n",
       "17  9010 Les Râpes (3 112) 9020 Montheron (141) 90...     \n",
       "\n",
       "    situation sur la carte  \n",
       "0                      NaN  \n",
       "1                      NaN  \n",
       "2                      NaN  \n",
       "3                      NaN  \n",
       "4                      NaN  \n",
       "5                      NaN  \n",
       "6                      NaN  \n",
       "7                      NaN  \n",
       "8                      NaN  \n",
       "9                      NaN  \n",
       "10                     NaN  \n",
       "11                     NaN  \n",
       "12                     NaN  \n",
       "13                     NaN  \n",
       "14                     NaN  \n",
       "15                     NaN  \n",
       "16                     NaN  \n",
       "17                     NaN  "
      ]
     },
     "execution_count": 4,
     "metadata": {},
     "output_type": "execute_result"
    }
   ],
   "source": [
    "lau_data = pd.DataFrame(wiki_table[0])\n",
    "lau_data"
   ]
  },
  {
   "cell_type": "code",
   "execution_count": 5,
   "metadata": {},
   "outputs": [],
   "source": [
    "from unicodedata import normalize\n",
    "temp = pd.Series([],dtype = str)\n",
    "for i in range(0, len(lau_data[\"nombre d'habitants (2014)\"])):\n",
    "    normalize('NFKD', lau_data[\"nombre d'habitants (2014)\"][i])\n",
    "    temp[i] = lau_data[\"nombre d'habitants (2014)\"][i].replace(' ','').replace('\\xa0','')"
   ]
  },
  {
   "cell_type": "code",
   "execution_count": 6,
   "metadata": {},
   "outputs": [],
   "source": [
    "lau_data[\"nombre d'habitants (2014)\"] = temp.astype(float)"
   ]
  },
  {
   "cell_type": "markdown",
   "metadata": {},
   "source": [
    "To get an idea of the total population and the distribution per quarter, we plot the number of inhabitants per quarter of Lausanne"
   ]
  },
  {
   "cell_type": "code",
   "execution_count": 7,
   "metadata": {},
   "outputs": [
    {
     "data": {
      "text/plain": [
       "Text(0.5, 1.0, 'Number of inhabitants in the different quarters of the city of Lausanne')"
      ]
     },
     "execution_count": 7,
     "metadata": {},
     "output_type": "execute_result"
    },
    {
     "data": {
      "image/png": "[encoded data removed]",
      "text/plain": [
       "<Figure size 720x576 with 1 Axes>"
      ]
     },
     "metadata": {
      "needs_background": "light"
     },
     "output_type": "display_data"
    }
   ],
   "source": [
    "plt.figure(figsize = (10,8))\n",
    "plt.bar(lau_data['nom'],lau_data[\"nombre d'habitants (2014)\"])\n",
    "plt.xticks(rotation = 90)\n",
    "plt.ylabel('Number of inhabitants (2014)')\n",
    "plt.title('Number of inhabitants in the different quarters of the city of Lausanne')"
   ]
  },
  {
   "cell_type": "markdown",
   "metadata": {},
   "source": [
    "The total number of inhabitants in Lausanne is: "
   ]
  },
  {
   "cell_type": "code",
   "execution_count": 8,
   "metadata": {},
   "outputs": [
    {
     "data": {
      "text/plain": [
       "140023.0"
      ]
     },
     "execution_count": 8,
     "metadata": {},
     "output_type": "execute_result"
    }
   ],
   "source": [
    "tot_laus = lau_data[\"nombre d'habitants (2014)\"].sum()\n",
    "tot_laus"
   ]
  },
  {
   "cell_type": "code",
   "execution_count": 9,
   "metadata": {},
   "outputs": [],
   "source": [
    "cols = [0,2,3,4,5]"
   ]
  },
  {
   "cell_type": "code",
   "execution_count": 10,
   "metadata": {},
   "outputs": [],
   "source": [
    "lau_data.drop(lau_data.columns[cols], axis = 1, inplace = True)"
   ]
  },
  {
   "cell_type": "code",
   "execution_count": 11,
   "metadata": {},
   "outputs": [],
   "source": [
    "lau_data.rename(columns={'nom':'neighbourhoods'}, inplace = True)"
   ]
  },
  {
   "cell_type": "code",
   "execution_count": 12,
   "metadata": {},
   "outputs": [
    {
     "data": {
      "text/html": [
       "<div>\n",
       "<style scoped>\n",
       "    .dataframe tbody tr th:only-of-type {\n",
       "        vertical-align: middle;\n",
       "    }\n",
       "\n",
       "    .dataframe tbody tr th {\n",
       "        vertical-align: top;\n",
       "    }\n",
       "\n",
       "    .dataframe thead th {\n",
       "        text-align: right;\n",
       "    }\n",
       "</style>\n",
       "<table border=\"1\" class=\"dataframe\">\n",
       "  <thead>\n",
       "    <tr style=\"text-align: right;\">\n",
       "      <th></th>\n",
       "      <th>neighbourhoods</th>\n",
       "    </tr>\n",
       "  </thead>\n",
       "  <tbody>\n",
       "    <tr>\n",
       "      <th>0</th>\n",
       "      <td>Centre</td>\n",
       "    </tr>\n",
       "    <tr>\n",
       "      <th>1</th>\n",
       "      <td>Maupas/Valency</td>\n",
       "    </tr>\n",
       "    <tr>\n",
       "      <th>2</th>\n",
       "      <td>Sébeillon/Malley</td>\n",
       "    </tr>\n",
       "    <tr>\n",
       "      <th>3</th>\n",
       "      <td>Montoie/Bourdonnette</td>\n",
       "    </tr>\n",
       "    <tr>\n",
       "      <th>4</th>\n",
       "      <td>Montriond/Cour</td>\n",
       "    </tr>\n",
       "  </tbody>\n",
       "</table>\n",
       "</div>"
      ],
      "text/plain": [
       "         neighbourhoods\n",
       "0                Centre\n",
       "1        Maupas/Valency\n",
       "2      Sébeillon/Malley\n",
       "3  Montoie/Bourdonnette\n",
       "4        Montriond/Cour"
      ]
     },
     "execution_count": 12,
     "metadata": {},
     "output_type": "execute_result"
    }
   ],
   "source": [
    "lau_data.head()"
   ]
  },
  {
   "cell_type": "markdown",
   "metadata": {},
   "source": [
    "Unfortunately there is not a table listing already the coordinate of the center for each quarter, so the coordinates where added by hand"
   ]
  },
  {
   "cell_type": "code",
   "execution_count": 13,
   "metadata": {},
   "outputs": [],
   "source": [
    "lau_data['latitude'] = [46.5189,46.5264,46.5236,46.5208,46.5155,46.5069,46.5094,46.5142,46.5186,46.5242,46.5267,46.5378,46.5378,46.5367,46.5269,46.5472,46.5331,46.5622]\n",
    "lau_data['longitude'] = [6.6358,6.6211,6.6189,6.5958,6.6156,6.6267,6.6353,6.6431,6.6486,6.6486,6.6492,6.6525,6.6383,6.6336,6.6300,6.6150,6.6194,6.6844]"
   ]
  },
  {
   "cell_type": "code",
   "execution_count": 14,
   "metadata": {},
   "outputs": [
    {
     "data": {
      "text/html": [
       "<div>\n",
       "<style scoped>\n",
       "    .dataframe tbody tr th:only-of-type {\n",
       "        vertical-align: middle;\n",
       "    }\n",
       "\n",
       "    .dataframe tbody tr th {\n",
       "        vertical-align: top;\n",
       "    }\n",
       "\n",
       "    .dataframe thead th {\n",
       "        text-align: right;\n",
       "    }\n",
       "</style>\n",
       "<table border=\"1\" class=\"dataframe\">\n",
       "  <thead>\n",
       "    <tr style=\"text-align: right;\">\n",
       "      <th></th>\n",
       "      <th>neighbourhoods</th>\n",
       "      <th>latitude</th>\n",
       "      <th>longitude</th>\n",
       "    </tr>\n",
       "  </thead>\n",
       "  <tbody>\n",
       "    <tr>\n",
       "      <th>0</th>\n",
       "      <td>Centre</td>\n",
       "      <td>46.5189</td>\n",
       "      <td>6.6358</td>\n",
       "    </tr>\n",
       "    <tr>\n",
       "      <th>1</th>\n",
       "      <td>Maupas/Valency</td>\n",
       "      <td>46.5264</td>\n",
       "      <td>6.6211</td>\n",
       "    </tr>\n",
       "    <tr>\n",
       "      <th>2</th>\n",
       "      <td>Sébeillon/Malley</td>\n",
       "      <td>46.5236</td>\n",
       "      <td>6.6189</td>\n",
       "    </tr>\n",
       "    <tr>\n",
       "      <th>3</th>\n",
       "      <td>Montoie/Bourdonnette</td>\n",
       "      <td>46.5208</td>\n",
       "      <td>6.5958</td>\n",
       "    </tr>\n",
       "    <tr>\n",
       "      <th>4</th>\n",
       "      <td>Montriond/Cour</td>\n",
       "      <td>46.5155</td>\n",
       "      <td>6.6156</td>\n",
       "    </tr>\n",
       "  </tbody>\n",
       "</table>\n",
       "</div>"
      ],
      "text/plain": [
       "         neighbourhoods  latitude  longitude\n",
       "0                Centre   46.5189     6.6358\n",
       "1        Maupas/Valency   46.5264     6.6211\n",
       "2      Sébeillon/Malley   46.5236     6.6189\n",
       "3  Montoie/Bourdonnette   46.5208     6.5958\n",
       "4        Montriond/Cour   46.5155     6.6156"
      ]
     },
     "execution_count": 14,
     "metadata": {},
     "output_type": "execute_result"
    }
   ],
   "source": [
    "lau_data.head()"
   ]
  },
  {
   "cell_type": "markdown",
   "metadata": {},
   "source": [
    "Here we show a map of Lausanne and its neighbourhoods"
   ]
  },
  {
   "cell_type": "code",
   "execution_count": 15,
   "metadata": {},
   "outputs": [
    {
     "data": {
      "text/html": [
       "<div style=\"width:100%;\"><div style=\"position:relative;width:100%;height:0;padding-bottom:60%;\"><span style=\"color:#565656\">Make this Notebook Trusted to load map: File -> Trust Notebook</span><iframe src=\"about:blank\" style=\"position:absolute;width:100%;height:100%;left:0;top:0;border:none !important;\" data-html=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 onload=\"this.contentDocument.open();this.contentDocument.write(atob(this.getAttribute('data-html')));this.contentDocument.close();\" allowfullscreen webkitallowfullscreen mozallowfullscreen></iframe></div></div>"
      ],
      "text/plain": [
       "<folium.folium.Map at 0x7fbaf04918d0>"
      ]
     },
     "execution_count": 15,
     "metadata": {},
     "output_type": "execute_result"
    }
   ],
   "source": [
    "# create map of Lausanne using latitude and longitude values\n",
    "map_lausanne = folium.Map(location=[latitude_lau, longitude_lau], zoom_start=13)\n",
    "\n",
    "# add markers to map\n",
    "for lat, lng, label in zip(lau_data['latitude'], lau_data['longitude'], lau_data['neighbourhoods']):\n",
    "    label = folium.Popup(label, parse_html=True)\n",
    "    folium.CircleMarker(\n",
    "        [lat, lng],\n",
    "        radius=5,\n",
    "        popup=label,\n",
    "        color='blue',\n",
    "        fill=True,\n",
    "        fill_color='#3186cc',\n",
    "        fill_opacity=0.7,\n",
    "        parse_html=False).add_to(map_lausanne)  \n",
    "    \n",
    "map_lausanne"
   ]
  },
  {
   "cell_type": "markdown",
   "metadata": {},
   "source": [
    "Now we define the FourSquare credentials to access data about the venues for each neighbourhood"
   ]
  },
  {
   "cell_type": "code",
   "execution_count": 16,
   "metadata": {},
   "outputs": [
    {
     "name": "stdout",
     "output_type": "stream",
     "text": [
      "Your credentails:\n",
      "CLIENT_ID: CT2L4SYXIDPGMQCYAWJ1KOC2EBNEISGNBUZ2CWFD5MYQXKJ5\n",
      "CLIENT_SECRET:GGLIFFLM5CBWUYF3KUITLIQHJRDYHZRGNMUFSDMCM2PYWG1W\n"
     ]
    }
   ],
   "source": [
    "CLIENT_ID = 'CT2L4SYXIDPGMQCYAWJ1KOC2EBNEISGNBUZ2CWFD5MYQXKJ5' # your Foursquare ID\n",
    "CLIENT_SECRET = 'GGLIFFLM5CBWUYF3KUITLIQHJRDYHZRGNMUFSDMCM2PYWG1W' # your Foursquare Secret\n",
    "VERSION = '20180605' # Foursquare API version\n",
    "\n",
    "print('Your credentails:')\n",
    "print('CLIENT_ID: ' + CLIENT_ID)\n",
    "print('CLIENT_SECRET:' + CLIENT_SECRET)"
   ]
  },
  {
   "cell_type": "markdown",
   "metadata": {},
   "source": [
    "Here we access information about venues in a radius of 5 km around the city centre of Lausanne"
   ]
  },
  {
   "cell_type": "code",
   "execution_count": 17,
   "metadata": {},
   "outputs": [],
   "source": [
    "radius = 5000\n",
    "LIMIT = 150\n",
    "url = 'https://api.foursquare.com/v2/venues/explore?client_id={}&client_secret={}&ll={},{}&v={}&radius={}&limit={}'.format(CLIENT_ID, CLIENT_SECRET,latitude_lau, longitude_lau, VERSION, radius, LIMIT)\n",
    "results = requests.get(url).json()"
   ]
  },
  {
   "cell_type": "code",
   "execution_count": 18,
   "metadata": {},
   "outputs": [],
   "source": [
    "# function that extracts the category of the venue\n",
    "def get_category_type(row):\n",
    "    try:\n",
    "        categories_list = row['categories']\n",
    "    except:\n",
    "        categories_list = row['venue.categories']\n",
    "        \n",
    "    if len(categories_list) == 0:\n",
    "        return None\n",
    "    else:\n",
    "        return categories_list[0]['name']"
   ]
  },
  {
   "cell_type": "code",
   "execution_count": 19,
   "metadata": {},
   "outputs": [],
   "source": [
    "venues = results['response']['groups'][0]['items']\n",
    "    \n",
    "nearby_venues = pd.json_normalize(venues) # flatten JSON"
   ]
  },
  {
   "cell_type": "code",
   "execution_count": 20,
   "metadata": {},
   "outputs": [
    {
     "name": "stdout",
     "output_type": "stream",
     "text": [
      "100 venues were returned by Foursquare.\n"
     ]
    }
   ],
   "source": [
    "# filter columns\n",
    "filtered_columns = ['venue.name', 'venue.categories', 'venue.location.lat', 'venue.location.lng']\n",
    "nearby_venues =nearby_venues.loc[:, filtered_columns]\n",
    "\n",
    "# filter the category for each row\n",
    "nearby_venues['venue.categories'] = nearby_venues.apply(get_category_type, axis=1)\n",
    "\n",
    "# clean columns\n",
    "nearby_venues.columns = [col.split(\".\")[-1] for col in nearby_venues.columns]\n",
    "\n",
    "print('{} venues were returned by Foursquare.'.format(nearby_venues.shape[0]))"
   ]
  },
  {
   "cell_type": "markdown",
   "metadata": {},
   "source": [
    "Here we take the results obtained about the venues, we calculate the frequency per venue type and we take the first 10 venue types"
   ]
  },
  {
   "cell_type": "code",
   "execution_count": 21,
   "metadata": {},
   "outputs": [],
   "source": [
    "centre_laus_freq = nearby_venues.groupby('categories').count().sort_values('name',ascending = False).iloc[0:10,0]"
   ]
  },
  {
   "cell_type": "code",
   "execution_count": 22,
   "metadata": {},
   "outputs": [
    {
     "data": {
      "text/plain": [
       "Text(0.5, 1.0, 'Number of venues and their type in a radius of 5 km from the city centre of Lausanne')"
      ]
     },
     "execution_count": 22,
     "metadata": {},
     "output_type": "execute_result"
    },
    {
     "data": {
      "image/png": "[encoded data removed]",
      "text/plain": [
       "<Figure size 720x576 with 1 Axes>"
      ]
     },
     "metadata": {
      "needs_background": "light"
     },
     "output_type": "display_data"
    }
   ],
   "source": [
    "plt.figure(figsize = (10,8))\n",
    "plt.bar(centre_laus_freq.index,centre_laus_freq)\n",
    "plt.xticks(rotation = 90)\n",
    "plt.ylabel('Number of venues')\n",
    "plt.title('Number of venues and their type in a radius of 5 km from the city centre of Lausanne')"
   ]
  },
  {
   "cell_type": "markdown",
   "metadata": {},
   "source": [
    "Now we run the same function for all the neighbourhoods in Lausanne"
   ]
  },
  {
   "cell_type": "code",
   "execution_count": 23,
   "metadata": {},
   "outputs": [],
   "source": [
    "def getNearbyVenues(names, latitudes, longitudes, radius=500):\n",
    "    \n",
    "    venues_list=[]\n",
    "    for name, lat, lng in zip(names, latitudes, longitudes):\n",
    "        print(name)\n",
    "            \n",
    "        # create the API request URL\n",
    "        url = 'https://api.foursquare.com/v2/venues/explore?&client_id={}&client_secret={}&v={}&ll={},{}&radius={}&limit={}'.format(\n",
    "            CLIENT_ID, \n",
    "            CLIENT_SECRET, \n",
    "            VERSION, \n",
    "            lat, \n",
    "            lng, \n",
    "            radius, \n",
    "            LIMIT)\n",
    "        print(radius)\n",
    "        # make the GET request\n",
    "        results = requests.get(url).json()[\"response\"]['groups'][0]['items']\n",
    "        \n",
    "        # return only relevant information for each nearby venue\n",
    "        venues_list.append([(\n",
    "            name, \n",
    "            lat, \n",
    "            lng, \n",
    "            v['venue']['name'], \n",
    "            v['venue']['location']['lat'], \n",
    "            v['venue']['location']['lng'],  \n",
    "            v['venue']['categories'][0]['name']) for v in results])\n",
    "\n",
    "    nearby_venues = pd.DataFrame([item for venue_list in venues_list for item in venue_list])\n",
    "    nearby_venues.columns = ['Neighbourhood', \n",
    "                  'Neighbourhood Latitude', \n",
    "                  'Neighbourhood Longitude', \n",
    "                  'Venue', \n",
    "                  'Venue Latitude', \n",
    "                  'Venue Longitude', \n",
    "                  'Venue Category']\n",
    "    \n",
    "    return(nearby_venues)"
   ]
  },
  {
   "cell_type": "code",
   "execution_count": 24,
   "metadata": {},
   "outputs": [
    {
     "name": "stdout",
     "output_type": "stream",
     "text": [
      "Centre\n",
      "500\n",
      "Maupas/Valency\n",
      "500\n"
     ]
    },
    {
     "ename": "KeyError",
     "evalue": "'groups'",
     "output_type": "error",
     "traceback": [
      "\u001b[0;31m---------------------------------------------------------------------------\u001b[0m",
      "\u001b[0;31mKeyError\u001b[0m                                  Traceback (most recent call last)",
      "\u001b[0;32m<ipython-input-24-86e3bbf76470>\u001b[0m in \u001b[0;36m<module>\u001b[0;34m\u001b[0m\n\u001b[1;32m      1\u001b[0m lausanne_venues = getNearbyVenues(names=lau_data['neighbourhoods'],\n\u001b[1;32m      2\u001b[0m                                    \u001b[0mlatitudes\u001b[0m\u001b[0;34m=\u001b[0m\u001b[0mlau_data\u001b[0m\u001b[0;34m[\u001b[0m\u001b[0;34m'latitude'\u001b[0m\u001b[0;34m]\u001b[0m\u001b[0;34m,\u001b[0m\u001b[0;34m\u001b[0m\u001b[0;34m\u001b[0m\u001b[0m\n\u001b[0;32m----> 3\u001b[0;31m                                    \u001b[0mlongitudes\u001b[0m\u001b[0;34m=\u001b[0m\u001b[0mlau_data\u001b[0m\u001b[0;34m[\u001b[0m\u001b[0;34m'longitude'\u001b[0m\u001b[0;34m]\u001b[0m\u001b[0;34m\u001b[0m\u001b[0;34m\u001b[0m\u001b[0m\n\u001b[0m\u001b[1;32m      4\u001b[0m                                   )\n",
      "\u001b[0;32m<ipython-input-23-52f0d51d5019>\u001b[0m in \u001b[0;36mgetNearbyVenues\u001b[0;34m(names, latitudes, longitudes, radius)\u001b[0m\n\u001b[1;32m     16\u001b[0m         \u001b[0mprint\u001b[0m\u001b[0;34m(\u001b[0m\u001b[0mradius\u001b[0m\u001b[0;34m)\u001b[0m\u001b[0;34m\u001b[0m\u001b[0;34m\u001b[0m\u001b[0m\n\u001b[1;32m     17\u001b[0m         \u001b[0;31m# make the GET request\u001b[0m\u001b[0;34m\u001b[0m\u001b[0;34m\u001b[0m\u001b[0;34m\u001b[0m\u001b[0m\n\u001b[0;32m---> 18\u001b[0;31m         \u001b[0mresults\u001b[0m \u001b[0;34m=\u001b[0m \u001b[0mrequests\u001b[0m\u001b[0;34m.\u001b[0m\u001b[0mget\u001b[0m\u001b[0;34m(\u001b[0m\u001b[0murl\u001b[0m\u001b[0;34m)\u001b[0m\u001b[0;34m.\u001b[0m\u001b[0mjson\u001b[0m\u001b[0;34m(\u001b[0m\u001b[0;34m)\u001b[0m\u001b[0;34m[\u001b[0m\u001b[0;34m\"response\"\u001b[0m\u001b[0;34m]\u001b[0m\u001b[0;34m[\u001b[0m\u001b[0;34m'groups'\u001b[0m\u001b[0;34m]\u001b[0m\u001b[0;34m[\u001b[0m\u001b[0;36m0\u001b[0m\u001b[0;34m]\u001b[0m\u001b[0;34m[\u001b[0m\u001b[0;34m'items'\u001b[0m\u001b[0;34m]\u001b[0m\u001b[0;34m\u001b[0m\u001b[0;34m\u001b[0m\u001b[0m\n\u001b[0m\u001b[1;32m     19\u001b[0m \u001b[0;34m\u001b[0m\u001b[0m\n\u001b[1;32m     20\u001b[0m         \u001b[0;31m# return only relevant information for each nearby venue\u001b[0m\u001b[0;34m\u001b[0m\u001b[0;34m\u001b[0m\u001b[0;34m\u001b[0m\u001b[0m\n",
      "\u001b[0;31mKeyError\u001b[0m: 'groups'"
     ]
    }
   ],
   "source": [
    "lausanne_venues = getNearbyVenues(names=lau_data['neighbourhoods'],\n",
    "                                   latitudes=lau_data['latitude'],\n",
    "                                   longitudes=lau_data['longitude']\n",
    "                                  )"
   ]
  },
  {
   "cell_type": "code",
   "execution_count": null,
   "metadata": {},
   "outputs": [],
   "source": [
    "print(lausanne_venues.shape)\n",
    "lausanne_venues.head()"
   ]
  },
  {
   "cell_type": "code",
   "execution_count": null,
   "metadata": {},
   "outputs": [],
   "source": [
    "lausanne_venues.groupby('Neighbourhood').count()"
   ]
  },
  {
   "cell_type": "code",
   "execution_count": null,
   "metadata": {},
   "outputs": [],
   "source": [
    "lausanne_venues.groupby('Neighbourhood').count().sum()"
   ]
  },
  {
   "cell_type": "code",
   "execution_count": null,
   "metadata": {},
   "outputs": [],
   "source": [
    "plt.figure(figsize = (10,8))\n",
    "plt.bar(lausanne_venues.groupby('Neighbourhood').count().index,lausanne_venues.groupby('Neighbourhood').count()['Venue'])\n",
    "plt.xticks(rotation = 90)\n",
    "plt.ylabel('Number of venues')\n",
    "plt.title('Number of venues in the different quarters of the city of Lausanne')"
   ]
  },
  {
   "cell_type": "code",
   "execution_count": null,
   "metadata": {},
   "outputs": [],
   "source": [
    "# one hot encoding\n",
    "lausanne_onehot = pd.get_dummies(lausanne_venues[['Venue Category']], prefix=\"\", prefix_sep=\"\")\n",
    "\n",
    "# add neighborhood column back to dataframe\n",
    "lausanne_onehot['Neighbourhood'] = lausanne_venues['Neighbourhood'] \n",
    "\n",
    "# move neighborhood column to the first column\n",
    "fixed_columns = [lausanne_onehot.columns[-1]] + list(lausanne_onehot.columns[:-1])\n",
    "lausanne_onehot = lausanne_onehot[fixed_columns]\n",
    "\n",
    "lausanne_onehot.head()"
   ]
  },
  {
   "cell_type": "code",
   "execution_count": null,
   "metadata": {},
   "outputs": [],
   "source": [
    "#lausanne_grouped = lausanne_onehot.groupby('Neighbourhood').mean().reset_index()\n",
    "lausanne_grouped = lausanne_onehot.groupby('Neighbourhood').sum().reset_index()"
   ]
  },
  {
   "cell_type": "code",
   "execution_count": null,
   "metadata": {},
   "outputs": [],
   "source": [
    "lausanne_grouped.head()"
   ]
  },
  {
   "cell_type": "code",
   "execution_count": null,
   "metadata": {},
   "outputs": [],
   "source": [
    "lausanne_grouped.shape"
   ]
  },
  {
   "cell_type": "code",
   "execution_count": null,
   "metadata": {},
   "outputs": [],
   "source": [
    "num_top_venues = 5\n",
    "\n",
    "for hood in lausanne_grouped['Neighbourhood']:\n",
    "    print(\"----\"+hood+\"----\")\n",
    "    temp = lausanne_grouped[lausanne_grouped['Neighbourhood'] == hood].T.reset_index()\n",
    "    temp.columns = ['venue','freq']\n",
    "    temp = temp.iloc[1:]\n",
    "    temp['freq'] = temp['freq'].astype(float)\n",
    "    temp = temp.round({'freq': 2})\n",
    "    print(temp.sort_values('freq', ascending=False).reset_index(drop=True).head(num_top_venues))\n",
    "    print('\\n')"
   ]
  },
  {
   "cell_type": "markdown",
   "metadata": {},
   "source": [
    "Let's define a function that assembles in a dataframe the most common venues"
   ]
  },
  {
   "cell_type": "code",
   "execution_count": null,
   "metadata": {},
   "outputs": [],
   "source": [
    "def return_most_common_venues(row, num_top_venues):\n",
    "    row_categories = row.iloc[1:]\n",
    "    row_categories_sorted = row_categories.sort_values(ascending=False)\n",
    "    \n",
    "    return row_categories_sorted.index.values[0:num_top_venues]"
   ]
  },
  {
   "cell_type": "markdown",
   "metadata": {},
   "source": [
    "Now let's create the new dataframe and display the top 10 venues for each neighborhood."
   ]
  },
  {
   "cell_type": "code",
   "execution_count": null,
   "metadata": {
    "collapsed": false,
    "jupyter": {
     "outputs_hidden": false
    }
   },
   "outputs": [],
   "source": [
    "num_top_venues = 10\n",
    "\n",
    "indicators = ['st', 'nd', 'rd']\n",
    "\n",
    "# create columns according to number of top venues\n",
    "columns = ['Neighbourhood']\n",
    "for ind in np.arange(num_top_venues):\n",
    "    try:\n",
    "        columns.append('{}{} Most Common Venue'.format(ind+1, indicators[ind]))\n",
    "    except:\n",
    "        columns.append('{}th Most Common Venue'.format(ind+1))\n",
    "\n",
    "# create a new dataframe\n",
    "neighborhoods_venues_sorted = pd.DataFrame(columns=columns)\n",
    "neighborhoods_venues_sorted['Neighbourhood'] = lausanne_grouped['Neighbourhood']\n",
    "\n",
    "for ind in np.arange(lausanne_grouped.shape[0]):\n",
    "    neighborhoods_venues_sorted.iloc[ind, 1:] = return_most_common_venues(lausanne_grouped.iloc[ind, :], num_top_venues)\n",
    "\n",
    "neighborhoods_venues_sorted.head(18)"
   ]
  },
  {
   "cell_type": "markdown",
   "metadata": {},
   "source": [
    "Run K mean to group quarters into clusters"
   ]
  },
  {
   "cell_type": "code",
   "execution_count": null,
   "metadata": {},
   "outputs": [],
   "source": [
    "# set number of clusters\n",
    "kclusters = 3\n",
    "\n",
    "lausanne_grouped_clustering = lausanne_grouped.drop('Neighbourhood', 1)\n",
    "\n",
    "# run k-means clustering\n",
    "kmeans = KMeans(n_clusters=kclusters, random_state=0).fit(lausanne_grouped_clustering)\n",
    "\n",
    "# check cluster labels generated for each row in the dataframe\n",
    "kmeans.labels_[0:10] "
   ]
  },
  {
   "cell_type": "code",
   "execution_count": null,
   "metadata": {},
   "outputs": [],
   "source": [
    "# add clustering labels\n",
    "neighborhoods_venues_sorted.insert(0, 'Cluster Labels', kmeans.labels_)\n",
    "\n",
    "lausanne_merged = lau_data\n",
    "\n",
    "# merge toronto_grouped with toronto_data to add latitude/longitude for each neighborhood\n",
    "lausanne_merged = lausanne_merged.join(neighborhoods_venues_sorted.set_index('Neighbourhood'), on='neighbourhoods')\n",
    "\n",
    "lausanne_merged.head(18) # check the last columns!"
   ]
  },
  {
   "cell_type": "markdown",
   "metadata": {},
   "source": [
    "Let's create a map to show the clusters"
   ]
  },
  {
   "cell_type": "code",
   "execution_count": null,
   "metadata": {},
   "outputs": [],
   "source": [
    "# create map\n",
    "map_clusters = folium.Map(location=[latitude_lau, longitude_lau], zoom_start=13)\n",
    "\n",
    "# set color scheme for the clusters\n",
    "x = np.arange(kclusters)\n",
    "ys = [i + x + (i*x)**2 for i in range(kclusters)]\n",
    "colors_array = cm.rainbow(np.linspace(0, 1, len(ys)))\n",
    "rainbow = [colors.rgb2hex(i) for i in colors_array]\n",
    "\n",
    "# add markers to the map\n",
    "markers_colors = []\n",
    "for lat, lon, poi, cluster in zip(lausanne_merged['latitude'], lausanne_merged['longitude'], lausanne_merged['neighbourhoods'], lausanne_merged['Cluster Labels']):\n",
    "    label = folium.Popup(str(poi) + ' Cluster ' + str(cluster), parse_html=True)\n",
    "    folium.CircleMarker(\n",
    "        [lat, lon],\n",
    "        radius=5,\n",
    "        popup=label,\n",
    "        color=rainbow[cluster-1],\n",
    "        fill=True,\n",
    "        fill_color=rainbow[cluster-1],\n",
    "        fill_opacity=0.7).add_to(map_clusters)\n",
    "       \n",
    "map_clusters"
   ]
  },
  {
   "cell_type": "markdown",
   "metadata": {},
   "source": [
    "# Torino analysis"
   ]
  },
  {
   "cell_type": "markdown",
   "metadata": {},
   "source": [
    "Here we get the coordinates of the city of Torino"
   ]
  },
  {
   "cell_type": "code",
   "execution_count": null,
   "metadata": {},
   "outputs": [],
   "source": [
    "address = 'Torino, Italy'\n",
    "\n",
    "geolocator = Nominatim(user_agent=\"to_explorer\")\n",
    "location = geolocator.geocode(address)\n",
    "latitude_to = location.latitude\n",
    "longitude_to = location.longitude\n",
    "print('The geograpical coordinate of Torino are {}, {}.'.format(latitude_to, longitude_to))"
   ]
  },
  {
   "cell_type": "markdown",
   "metadata": {},
   "source": [
    "Here we get the list of Torino's quarters from the Wikipedia page and we clean the dataframe from unnecessary information. I decided to keep group information about the quarters at a higher level, chosing the administrative grouping called \"circoscrizione\" that is an ensemble of multiple quarters\n"
   ]
  },
  {
   "cell_type": "code",
   "execution_count": null,
   "metadata": {},
   "outputs": [],
   "source": [
    "wiki_url = \"https://it.wikipedia.org/wiki/Circoscrizioni_di_Torino\"\n",
    "wiki_table = pd.read_html(wiki_url)  "
   ]
  },
  {
   "cell_type": "code",
   "execution_count": null,
   "metadata": {},
   "outputs": [],
   "source": [
    "to_data = pd.DataFrame(wiki_table[0])\n",
    "to_data.head()"
   ]
  },
  {
   "cell_type": "code",
   "execution_count": null,
   "metadata": {},
   "outputs": [],
   "source": [
    "cols = [1,2,3,4]"
   ]
  },
  {
   "cell_type": "code",
   "execution_count": null,
   "metadata": {},
   "outputs": [],
   "source": [
    "to_data.drop(to_data.columns[cols], axis = 1, inplace = True)"
   ]
  },
  {
   "cell_type": "code",
   "execution_count": null,
   "metadata": {},
   "outputs": [],
   "source": [
    "to_data.head()"
   ]
  },
  {
   "cell_type": "code",
   "execution_count": null,
   "metadata": {},
   "outputs": [],
   "source": [
    "to_data['Circoscrizione'][1] = 'Circoscrizione 2'\n",
    "to_data['Circoscrizione'][7] = 'Circoscrizione 8'"
   ]
  },
  {
   "cell_type": "code",
   "execution_count": null,
   "metadata": {},
   "outputs": [],
   "source": [
    "from unicodedata import normalize\n",
    "temp = pd.Series([],dtype = str)\n",
    "\n",
    "for i in range(0, len(pd.DataFrame(wiki_table[0])[\"Residenti (2011)[3]\"])):\n",
    "    normalize('NFKD', pd.DataFrame(wiki_table[0])[\"Residenti (2011)[3]\"][i])\n",
    "    temp[i] = pd.DataFrame(wiki_table[0])[\"Residenti (2011)[3]\"][i].replace(' ab.','').replace('.','')\n",
    "    \n",
    "pd.DataFrame(wiki_table[0])[\"Residenti (2011)[3]\"] = temp.astype(float)"
   ]
  },
  {
   "cell_type": "markdown",
   "metadata": {},
   "source": [
    "To get an idea of the total population and the distribution per quarter, we plot the number of inhabitants per quarter of Torino"
   ]
  },
  {
   "cell_type": "code",
   "execution_count": null,
   "metadata": {},
   "outputs": [],
   "source": [
    "plt.figure(figsize = (10,8))\n",
    "plt.bar(to_data['Circoscrizione'],pd.DataFrame(wiki_table[0])[\"Residenti (2011)[3]\"] )\n",
    "plt.xticks(rotation = 90)\n",
    "plt.ylabel('Number of inhabitants (2011)')\n",
    "plt.title('Number of inhabitants in the different quarters of the city of Torino')"
   ]
  },
  {
   "cell_type": "markdown",
   "metadata": {},
   "source": [
    "The total number of inhabitants in Torino is:"
   ]
  },
  {
   "cell_type": "code",
   "execution_count": null,
   "metadata": {},
   "outputs": [],
   "source": [
    "tot_torino = pd.DataFrame(wiki_table[0])[\"Residenti (2011)[3]\"].sum() \n",
    "tot_torino"
   ]
  },
  {
   "cell_type": "markdown",
   "metadata": {},
   "source": [
    "Unfortunately there is not a table listing already the coordinate of the center for each quarter, so the coordinates where added by hand"
   ]
  },
  {
   "cell_type": "code",
   "execution_count": null,
   "metadata": {},
   "outputs": [],
   "source": [
    "to_data['latitude'] = [45.070203,45.033970,45.064219,45.079942,45.102908,45.110617,45.092651,45.026379]\n",
    "to_data['longitude'] = [7.676228,7.620971,7.636010,7.641316,7.649016,7.705603,7.726734,7.665784]"
   ]
  },
  {
   "cell_type": "code",
   "execution_count": null,
   "metadata": {},
   "outputs": [],
   "source": [
    "to_data.rename(columns={'Circoscrizione':'neighbourhoods'}, inplace = True)\n",
    "to_data.head()"
   ]
  },
  {
   "cell_type": "markdown",
   "metadata": {},
   "source": [
    "Here we show a map of Torino and its neighbourhoods"
   ]
  },
  {
   "cell_type": "code",
   "execution_count": null,
   "metadata": {},
   "outputs": [],
   "source": [
    "# create map of Lausanne using latitude and longitude values\n",
    "map_to = folium.Map(location=[latitude_to, longitude_to], zoom_start=12)\n",
    "\n",
    "# add markers to map\n",
    "for lat, lng, label in zip(to_data['latitude'], to_data['longitude'], to_data['neighbourhoods']):\n",
    "    label = folium.Popup(label, parse_html=True)\n",
    "    folium.CircleMarker(\n",
    "        [lat, lng],\n",
    "        radius=5,\n",
    "        popup=label,\n",
    "        color='blue',\n",
    "        fill=True,\n",
    "        fill_color='#3186cc',\n",
    "        fill_opacity=0.7,\n",
    "        parse_html=False).add_to(map_to)  \n",
    "    \n",
    "map_to"
   ]
  },
  {
   "cell_type": "markdown",
   "metadata": {},
   "source": [
    "Here we access information about venues in a radius of 7 km m around the centre of Torino"
   ]
  },
  {
   "cell_type": "code",
   "execution_count": null,
   "metadata": {},
   "outputs": [],
   "source": [
    "radius = 7000\n",
    "LIMIT = 150\n",
    "url = 'https://api.foursquare.com/v2/venues/explore?client_id={}&client_secret={}&ll={},{}&v={}&radius={}&limit={}'.format(CLIENT_ID, CLIENT_SECRET, latitude_to, longitude_to, VERSION, radius, LIMIT)\n",
    "results = requests.get(url).json()"
   ]
  },
  {
   "cell_type": "code",
   "execution_count": null,
   "metadata": {},
   "outputs": [],
   "source": [
    "venues = results['response']['groups'][0]['items']\n",
    "    \n",
    "nearby_venues = pd.json_normalize(venues) # flatten JSON\n",
    "\n",
    "# filter columns\n",
    "filtered_columns = ['venue.name', 'venue.categories', 'venue.location.lat', 'venue.location.lng']\n",
    "nearby_venues =nearby_venues.loc[:, filtered_columns]\n",
    "\n",
    "# filter the category for each row\n",
    "nearby_venues['venue.categories'] = nearby_venues.apply(get_category_type, axis=1)\n",
    "\n",
    "# clean columns\n",
    "nearby_venues.columns = [col.split(\".\")[-1] for col in nearby_venues.columns]\n",
    "\n",
    "print('{} venues were returned by Foursquare.'.format(nearby_venues.shape[0]))"
   ]
  },
  {
   "cell_type": "markdown",
   "metadata": {},
   "source": [
    "Here we take the results obtained about the venues, we calculate the frequency per venue type and we take the first 10 venue types"
   ]
  },
  {
   "cell_type": "code",
   "execution_count": null,
   "metadata": {},
   "outputs": [],
   "source": [
    "centre_to_freq = nearby_venues.groupby('categories').count().sort_values('name',ascending = False).iloc[0:10,0]"
   ]
  },
  {
   "cell_type": "code",
   "execution_count": null,
   "metadata": {},
   "outputs": [],
   "source": [
    "plt.figure(figsize = (10,8))\n",
    "plt.bar(centre_to_freq.index,centre_to_freq)\n",
    "plt.xticks(rotation = 90)\n",
    "plt.ylabel('Number of venues')\n",
    "plt.title('Number of venues and their type in a radius of 7 km from the city centre of Torino')"
   ]
  },
  {
   "cell_type": "markdown",
   "metadata": {},
   "source": [
    "Now we run the same function for all the neighbourhoods in Torino"
   ]
  },
  {
   "cell_type": "code",
   "execution_count": null,
   "metadata": {},
   "outputs": [],
   "source": [
    "torino_venues = getNearbyVenues(names=to_data['neighbourhoods'],\n",
    "                                   latitudes=to_data['latitude'],\n",
    "                                   longitudes=to_data['longitude']\n",
    "                                  )"
   ]
  },
  {
   "cell_type": "code",
   "execution_count": null,
   "metadata": {},
   "outputs": [],
   "source": [
    "print(torino_venues.shape)\n",
    "torino_venues.head()"
   ]
  },
  {
   "cell_type": "code",
   "execution_count": null,
   "metadata": {},
   "outputs": [],
   "source": [
    "torino_venues.groupby('Neighbourhood').count()"
   ]
  },
  {
   "cell_type": "code",
   "execution_count": null,
   "metadata": {},
   "outputs": [],
   "source": [
    "torino_venues.groupby('Neighbourhood').count().sum()"
   ]
  },
  {
   "cell_type": "code",
   "execution_count": null,
   "metadata": {},
   "outputs": [],
   "source": [
    "plt.figure(figsize = (10,8))\n",
    "plt.bar(torino_venues.groupby('Neighbourhood').count().index,torino_venues.groupby('Neighbourhood').count()['Venue'])\n",
    "plt.xticks(rotation = 90)\n",
    "plt.ylabel('Number of venues')\n",
    "plt.title('Number of venues in the different quarters of the city of Torino')"
   ]
  },
  {
   "cell_type": "code",
   "execution_count": null,
   "metadata": {},
   "outputs": [],
   "source": [
    "# one hot encoding\n",
    "torino_onehot = pd.get_dummies(torino_venues[['Venue Category']], prefix=\"\", prefix_sep=\"\")\n",
    "\n",
    "# add neighborhood column back to dataframe\n",
    "torino_onehot['Neighbourhood'] = torino_venues['Neighbourhood'] \n",
    "\n",
    "# move neighborhood column to the first column\n",
    "fixed_columns = [torino_onehot.columns[-1]] + list(torino_onehot.columns[:-1])\n",
    "torino_onehot = torino_onehot[fixed_columns]\n",
    "torino_onehot.head()"
   ]
  },
  {
   "cell_type": "code",
   "execution_count": null,
   "metadata": {},
   "outputs": [],
   "source": [
    "torino_grouped = torino_onehot.groupby('Neighbourhood').sum().reset_index()"
   ]
  },
  {
   "cell_type": "code",
   "execution_count": null,
   "metadata": {},
   "outputs": [],
   "source": [
    "torino_grouped.head()"
   ]
  },
  {
   "cell_type": "code",
   "execution_count": null,
   "metadata": {},
   "outputs": [],
   "source": [
    "torino_grouped.shape"
   ]
  },
  {
   "cell_type": "code",
   "execution_count": null,
   "metadata": {},
   "outputs": [],
   "source": [
    "num_top_venues = 5\n",
    "\n",
    "for hood in torino_grouped['Neighbourhood']:\n",
    "    print(\"----\"+hood+\"----\")\n",
    "    temp = torino_grouped[torino_grouped['Neighbourhood'] == hood].T.reset_index()\n",
    "    temp.columns = ['venue','freq']\n",
    "    temp = temp.iloc[1:]\n",
    "    temp['freq'] = temp['freq'].astype(float)\n",
    "    temp = temp.round({'freq': 2})\n",
    "    print(temp.sort_values('freq', ascending=False).reset_index(drop=True).head(num_top_venues))\n",
    "    print('\\n')"
   ]
  },
  {
   "cell_type": "code",
   "execution_count": null,
   "metadata": {},
   "outputs": [],
   "source": [
    "num_top_venues = 10\n",
    "\n",
    "indicators = ['st', 'nd', 'rd']\n",
    "\n",
    "# create columns according to number of top venues\n",
    "columns = ['Neighbourhood']\n",
    "for ind in np.arange(num_top_venues):\n",
    "    try:\n",
    "        columns.append('{}{} Most Common Venue'.format(ind+1, indicators[ind]))\n",
    "    except:\n",
    "        columns.append('{}th Most Common Venue'.format(ind+1))\n",
    "\n",
    "# create a new dataframe\n",
    "neighborhoods_venues_sorted = pd.DataFrame(columns=columns)\n",
    "neighborhoods_venues_sorted['Neighbourhood'] = torino_grouped['Neighbourhood']\n",
    "\n",
    "for ind in np.arange(torino_grouped.shape[0]):\n",
    "    neighborhoods_venues_sorted.iloc[ind, 1:] = return_most_common_venues(torino_grouped.iloc[ind, :], num_top_venues)\n",
    "\n",
    "neighborhoods_venues_sorted.head()"
   ]
  },
  {
   "cell_type": "code",
   "execution_count": null,
   "metadata": {},
   "outputs": [],
   "source": [
    "# set number of clusters\n",
    "kclusters = 3\n",
    "\n",
    "torino_grouped_clustering = torino_grouped.drop('Neighbourhood', 1)\n",
    "\n",
    "# run k-means clustering\n",
    "kmeans = KMeans(n_clusters=kclusters, random_state=0).fit(torino_grouped_clustering)\n",
    "\n",
    "# check cluster labels generated for each row in the dataframe\n",
    "kmeans.labels_[0:10] "
   ]
  },
  {
   "cell_type": "code",
   "execution_count": null,
   "metadata": {},
   "outputs": [],
   "source": [
    "# add clustering labels\n",
    "neighborhoods_venues_sorted.insert(0, 'Cluster Labels', kmeans.labels_)\n",
    "\n",
    "torino_merged = to_data\n",
    "\n",
    "# merge toronto_grouped with toronto_data to add latitude/longitude for each neighborhood\n",
    "torino_merged = torino_merged.join(neighborhoods_venues_sorted.set_index('Neighbourhood'), on='neighbourhoods')\n",
    "\n",
    "torino_merged.head(8) # check the last columns!"
   ]
  },
  {
   "cell_type": "code",
   "execution_count": null,
   "metadata": {},
   "outputs": [],
   "source": [
    "# create map\n",
    "map_clusters = folium.Map(location=[latitude_to, longitude_to], zoom_start=12)\n",
    "\n",
    "# set color scheme for the clusters\n",
    "x = np.arange(kclusters)\n",
    "ys = [i + x + (i*x)**2 for i in range(kclusters)]\n",
    "colors_array = cm.rainbow(np.linspace(0, 1, len(ys)))\n",
    "rainbow = [colors.rgb2hex(i) for i in colors_array]\n",
    "\n",
    "# add markers to the map\n",
    "markers_colors = []\n",
    "for lat, lon, poi, cluster in zip(torino_merged['latitude'], torino_merged['longitude'], torino_merged['neighbourhoods'], torino_merged['Cluster Labels']):\n",
    "    label = folium.Popup(str(poi) + ' Cluster ' + str(cluster), parse_html=True)\n",
    "    folium.CircleMarker(\n",
    "        [lat, lon],\n",
    "        radius=5,\n",
    "        popup=label,\n",
    "        color=rainbow[cluster-1],\n",
    "        fill=True,\n",
    "        fill_color=rainbow[cluster-1],\n",
    "        fill_opacity=0.7).add_to(map_clusters)\n",
    "       \n",
    "map_clusters"
   ]
  },
  {
   "cell_type": "code",
   "execution_count": null,
   "metadata": {},
   "outputs": [],
   "source": []
  }
 ],
 "metadata": {
  "kernelspec": {
   "display_name": "Python",
   "language": "python",
   "name": "conda-env-python-py"
  },
  "language_info": {
   "codemirror_mode": {
    "name": "ipython",
    "version": 3
   },
   "file_extension": ".py",
   "mimetype": "text/x-python",
   "name": "python",
   "nbconvert_exporter": "python",
   "pygments_lexer": "ipython3",
   "version": "3.6.11"
  }
 },
 "nbformat": 4,
 "nbformat_minor": 4
}
